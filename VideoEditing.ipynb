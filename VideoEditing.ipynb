{
 "cells": [
  {
   "cell_type": "code",
   "execution_count": 4,
   "metadata": {},
   "outputs": [
    {
     "name": "stdout",
     "output_type": "stream",
     "text": [
      "Requirement already satisfied: pafy in c:\\users\\roble\\appdata\\local\\programs\\python\\python38\\lib\\site-packages (0.5.5)\n",
      "Collecting youtube_dl\n",
      "  Downloading youtube_dl-2021.5.16-py2.py3-none-any.whl (1.9 MB)\n",
      "Installing collected packages: youtube-dl\n",
      "Successfully installed youtube-dl-2021.5.16\n"
     ]
    },
    {
     "name": "stderr",
     "output_type": "stream",
     "text": [
      "The system cannot find the path specified.\n",
      "WARNING: You are using pip version 20.2.4; however, version 21.1.1 is available.\n",
      "You should consider upgrading via the 'c:\\users\\roble\\appdata\\local\\programs\\python\\python38\\python.exe -m pip install --upgrade pip' command.\n"
     ]
    }
   ],
   "source": [
    "!pip install pafy youtube_dl"
   ]
  },
  {
   "cell_type": "code",
   "execution_count": 12,
   "metadata": {},
   "outputs": [],
   "source": [
    "vids = [{\"cID\": \"EdVueeaNAK0\", \"title\": \"Ollie\", \"cstart\": \"70311\", \"cend\": \"72063\"},\n",
    "{\"cID\": \"EdVueeaNAK0\", \"title\": \"Ollie\", \"cstart\": \"539016\", \"cend\": \"539746\"},\n",
    "{\"cID\": \"EdVueeaNAK0\", \"title\": \"Ollie\", \"cstart\": \"558453\", \"cend\": \"558966\"},\n",
    "{\"cID\": \"EdVueeaNAK0\", \"title\": \"Ollie\", \"cstart\": \"578393\", \"cend\": \"579337\"},\n",
    "{\"cID\": \"EdVueeaNAK0\", \"title\": \"Ollie\", \"cstart\": \"582497\", \"cend\": \"583735\"},\n",
    "{\"cID\": \"EdVueeaNAK0\", \"title\": \"Ollie\", \"cstart\": \"584176\", \"cend\": \"584677\"},\n",
    "{\"cID\": \"EdVueeaNAK0\", \"title\": \"Ollie\", \"cstart\": \"585752\", \"cend\": \"586112\"},\n",
    "{\"cID\": \"EdVueeaNAK0\", \"title\": \"Ollie\", \"cstart\": \"595601\", \"cend\": \"596045\"},\n",
    "{\"cID\": \"EdVueeaNAK0\", \"title\": \"Ollie\", \"cstart\": \"597100\", \"cend\": \"597559\"},\n",
    "{\"cID\": \"EdVueeaNAK0\", \"title\": \"Ollie\", \"cstart\": \"602642\", \"cend\": \"602957\"},\n",
    "{\"cID\": \"EdVueeaNAK0\", \"title\": \"Ollie\", \"cstart\": \"606490\", \"cend\": \"607434\"},\n",
    "{\"cID\": \"EdVueeaNAK0\", \"title\": \"Ollie\", \"cstart\": \"618813\", \"cend\": \"619334\"},\n",
    "{\"cID\": \"EdVueeaNAK0\", \"title\": \"Ollie\", \"cstart\": \"630671\", \"cend\": \"632162\"},\n",
    "{\"cID\": \"KJnZvKwgZaA\", \"title\": \"Ollie\", \"cstart\": \"16015\", \"cend\": \"21669\"},\n",
    "{\"cID\": \"KJnZvKwgZaA\", \"title\": \"Ollie\", \"cstart\": \"28784\", \"cend\": \"33723\"},\n",
    "{\"cID\": \"KJnZvKwgZaA\", \"title\": \"Ollie\", \"cstart\": \"100735\", \"cend\": \"105913\"},\n",
    "{\"cID\": \"KJnZvKwgZaA\", \"title\": \"Ollie\", \"cstart\": \"121867\", \"cend\": \"126552\"},\n",
    "{\"cID\": \"KJnZvKwgZaA\", \"title\": \"Ollie\", \"cstart\": \"159667\", \"cend\": \"161173\"},\n",
    "{\"cID\": \"KJnZvKwgZaA\", \"title\": \"Ollie\", \"cstart\": \"161497\", \"cend\": \"165076\"},\n",
    "{\"cID\": \"KJnZvKwgZaA\", \"title\": \"Ollie\", \"cstart\": \"165590\", \"cend\": \"169727\"},\n",
    "{\"cID\": \"KJnZvKwgZaA\", \"title\": \"Ollie\", \"cstart\": \"178468\", \"cend\": \"180045\"},\n",
    "{\"cID\": \"KJnZvKwgZaA\", \"title\": \"Ollie\", \"cstart\": \"182830\", \"cend\": \"188237\"},\n",
    "{\"cID\": \"KJnZvKwgZaA\", \"title\": \"Ollie\", \"cstart\": \"195547\", \"cend\": \"199861\"}]"
   ]
  },
  {
   "cell_type": "code",
   "execution_count": 17,
   "metadata": {},
   "outputs": [
    {
     "data": {
      "text/plain": [
       "'EdVueeaNAK0'"
      ]
     },
     "execution_count": 17,
     "metadata": {},
     "output_type": "execute_result"
    }
   ],
   "source": [
    "vids[0]['cID']\n"
   ]
  },
  {
   "cell_type": "code",
   "execution_count": 20,
   "metadata": {},
   "outputs": [
    {
     "name": "stdout",
     "output_type": "stream",
     "text": [
      "EdVueeaNAK0\n",
      "EdVueeaNAK0\n",
      "EdVueeaNAK0\n",
      "EdVueeaNAK0\n",
      "EdVueeaNAK0\n",
      "EdVueeaNAK0\n",
      "EdVueeaNAK0\n",
      "EdVueeaNAK0\n",
      "EdVueeaNAK0\n",
      "EdVueeaNAK0\n",
      "EdVueeaNAK0\n",
      "EdVueeaNAK0\n",
      "EdVueeaNAK0\n",
      "KJnZvKwgZaA\n",
      "KJnZvKwgZaA\n",
      "KJnZvKwgZaA\n",
      "KJnZvKwgZaA\n",
      "KJnZvKwgZaA\n",
      "KJnZvKwgZaA\n",
      "KJnZvKwgZaA\n",
      "KJnZvKwgZaA\n",
      "KJnZvKwgZaA\n",
      "KJnZvKwgZaA\n"
     ]
    }
   ],
   "source": [
    "for n in vids:\n",
    "    print(n['cID'])"
   ]
  },
  {
   "cell_type": "code",
   "execution_count": 22,
   "metadata": {},
   "outputs": [],
   "source": [
    "import pafy, cv2\n",
    "# url = 'https://youtu.be/DK797d9ozN0?t=440'\n",
    "yt_url = 'https://www.youtube.com/watch?v='\n",
    "vPafy = pafy.new(url)\n",
    "play = vPafy.getbest(preftype=\"mp4\")\n",
    "\n",
    "for vid in vids:\n",
    "    #start the video\n",
    "    vPafy = pafy.new(yt_url + vid['cID'])\n",
    "    play = vPafy.getbest(preftype=\"mp4\")\n",
    "    cap = cv2.VideoCapture(play.url)\n",
    "    cap.set(cv2.CAP_PROP_POS_MSEC, int(vid['cstart']))\n",
    "    while (True):\n",
    "        ret,frame = cap.read()\n",
    "        \"\"\"\n",
    "        your code here\n",
    "        \"\"\"\n",
    "        cv2.imshow('frame',frame)\n",
    "        if cv2.waitKey(20) & 0xFF == ord('q'):\n",
    "            break    \n",
    "\n",
    "        cur_time = cap.get(cv2.CAP_PROP_POS_MSEC)\n",
    "        if cur_time > int(vid['cend']):\n",
    "            break\n",
    "\n",
    "    cap.release()\n",
    "    cv2.destroyAllWindows()"
   ]
  },
  {
   "cell_type": "code",
   "execution_count": 9,
   "metadata": {},
   "outputs": [
    {
     "name": "stdout",
     "output_type": "stream",
     "text": [
      "https://r1---sn-5ualdn76.googlevideo.com/videoplayback?expire=1622017488&ei=cLGtYOShCriozLUP4MiS-A8&ip=75.137.100.26&id=o-ALqIM1l0RiSpx4qYSAhRztH6n0U1qYHGN_fg79ODOt1T&itag=303&aitags=133%2C134%2C135%2C136%2C160%2C242%2C243%2C244%2C247%2C278%2C298%2C299%2C302%2C303%2C394%2C395%2C396%2C397%2C398%2C399&source=youtube&requiressl=yes&mh=83&mm=31%2C26&mn=sn-5ualdn76%2Csn-p5qs7ner&ms=au%2Conr&mv=m&mvi=1&pl=19&initcwndbps=1555000&vprv=1&mime=video%2Fwebm&ns=8cOZFCDPW7C0wIE2pO6GJvEF&gir=yes&clen=631740915&dur=1242.141&lmt=1566893519013301&mt=1621995177&fvip=1&keepalive=yes&fexp=24001373%2C24007246&c=WEB&txp=4535432&n=AA_MKVEqh5Y5pv5vxe&sparams=expire%2Cei%2Cip%2Cid%2Caitags%2Csource%2Crequiressl%2Cvprv%2Cmime%2Cns%2Cgir%2Cclen%2Cdur%2Clmt&sig=AOq0QJ8wRQIgV9Z9zWHYXtfgqZ84W1v-92zUKA-d_ZWTiU1AbD_GanACIQDdTapsU7uIaijLUl5QjPdm6lLWBhFK1wzV0ecyKpRPxg%3D%3D&lsparams=mh%2Cmm%2Cmn%2Cms%2Cmv%2Cmvi%2Cpl%2Cinitcwndbps&lsig=AG3C_xAwRAIgeFe7gX06F2fIJOE_Z1J9gq3M9_DG8B5txj9tSg3KvzACID-gRM7EFeLPZpDyGlHu0K5yr2Tu8fFC5oQ1t00b3EQ3"
     ]
    },
    {
     "name": "stderr",
     "output_type": "stream",
     "text": [
      "The system cannot find the path specified.\n"
     ]
    },
    {
     "name": "stdout",
     "output_type": "stream",
     "text": [
      "\n",
      "https://r1---sn-5ualdn76.googlevideo.com/videoplayback?expire=1622017488&ei=cLGtYOShCriozLUP4MiS-A8&ip=75.137.100.26&id=o-ALqIM1l0RiSpx4qYSAhRztH6n0U1qYHGN_fg79ODOt1T&itag=140&source=youtube&requiressl=yes&mh=83&mm=31%2C26&mn=sn-5ualdn76%2Csn-p5qs7ner&ms=au%2Conr&mv=m&mvi=1&pl=19&initcwndbps=1555000&vprv=1&mime=audio%2Fmp4&ns=8cOZFCDPW7C0wIE2pO6GJvEF&gir=yes&clen=20104420&dur=1242.197&lmt=1566891647197801&mt=1621995177&fvip=1&keepalive=yes&fexp=24001373%2C24007246&c=WEB&txp=4531432&n=AA_MKVEqh5Y5pv5vxe&sparams=expire%2Cei%2Cip%2Cid%2Citag%2Csource%2Crequiressl%2Cvprv%2Cmime%2Cns%2Cgir%2Cclen%2Cdur%2Clmt&sig=AOq0QJ8wRAIgNlGr8O3audGIOKXg6r2FwYVCeuTDkyJ9n0qnPnbfcIUCICic4fFhM_bIXbcfnGHwh0-J9hyfZzH4VuGZWeOgFXop&lsparams=mh%2Cmm%2Cmn%2Cms%2Cmv%2Cmvi%2Cpl%2Cinitcwndbps&lsig=AG3C_xAwRAIgeFe7gX06F2fIJOE_Z1J9gq3M9_DG8B5txj9tSg3KvzACID-gRM7EFeLPZpDyGlHu0K5yr2Tu8fFC5oQ1t00b3EQ3\n"
     ]
    }
   ],
   "source": [
    "!youtube-dl -g \"https://youtu.be/DK797d9ozN0\""
   ]
  },
  {
   "cell_type": "markdown",
   "metadata": {},
   "source": [
    "https://unix.stackexchange.com/questions/230481/how-to-download-portion-of-video-with-youtube-dl-command\n",
    "pafy + ffmpeg"
   ]
  },
  {
   "cell_type": "code",
   "execution_count": 10,
   "metadata": {},
   "outputs": [
    {
     "name": "stderr",
     "output_type": "stream",
     "text": [
      "The system cannot find the path specified.\n",
      "ffmpeg version 2021-05-23-git-4c0d6c91f6-full_build-www.gyan.dev Copyright (c) 2000-2021 the FFmpeg developers\n",
      "  built with gcc 10.3.0 (Rev2, Built by MSYS2 project)\n",
      "  configuration: --enable-gpl --enable-version3 --enable-static --disable-w32threads --disable-autodetect --enable-fontconfig --enable-iconv --enable-gnutls --enable-libxml2 --enable-gmp --enable-lzma --enable-libsnappy --enable-zlib --enable-librist --enable-libsrt --enable-libssh --enable-libzmq --enable-avisynth --enable-libbluray --enable-libcaca --enable-sdl2 --enable-libdav1d --enable-libzvbi --enable-librav1e --enable-libsvtav1 --enable-libwebp --enable-libx264 --enable-libx265 --enable-libxvid --enable-libaom --enable-libopenjpeg --enable-libvpx --enable-libass --enable-frei0r --enable-libfreetype --enable-libfribidi --enable-libvidstab --enable-libvmaf --enable-libzimg --enable-amf --enable-cuda-llvm --enable-cuvid --enable-ffnvcodec --enable-nvdec --enable-nvenc --enable-d3d11va --enable-dxva2 --enable-libmfx --enable-libglslang --enable-vulkan --enable-opencl --enable-libcdio --enable-libgme --enable-libmodplug --enable-libopenmpt --enable-libopencore-amrwb --enable-libmp3lame --enable-libshine --enable-libtheora --enable-libtwolame --enable-libvo-amrwbenc --enable-libilbc --enable-libgsm --enable-libopencore-amrnb --enable-libopus --enable-libspeex --enable-libvorbis --enable-ladspa --enable-libbs2b --enable-libflite --enable-libmysofa --enable-librubberband --enable-libsoxr --enable-chromaprint\n",
      "  libavutil      57.  0.100 / 57.  0.100\n",
      "  libavcodec     59.  1.100 / 59.  1.100\n",
      "  libavformat    59.  2.101 / 59.  2.101\n",
      "  libavdevice    59.  0.100 / 59.  0.100\n",
      "  libavfilter     8.  0.101 /  8.  0.101\n",
      "  libswscale      6.  0.100 /  6.  0.100\n",
      "  libswresample   4.  0.100 /  4.  0.100\n",
      "  libpostproc    56.  0.100 / 56.  0.100\n",
      "Input #0, matroska,webm, from 'https://r1---sn-5ualdn76.googlevideo.com/videoplayback?expire=1622017488&ei=cLGtYOShCriozLUP4MiS-A8&ip=75.137.100.26&id=o-ALqIM1l0RiSpx4qYSAhRztH6n0U1qYHGN_fg79ODOt1T&itag=303&aitags=133%2C134%2C135%2C136%2C160%2C242%2C243%2C244%2C247%2C278%2C298%2C299%2C302%2C303%2C394%2C395%2C396%2C397%2C398%2C399&source=youtube&requiressl=yes&mh=83&mm=31%2C26&mn=sn-5ualdn76%2Csn-p5qs7ner&ms=au%2Conr&mv=m&mvi=1&pl=19&initcwndbps=1555000&vprv=1&mime=video%2Fwebm&ns=8cOZFCDPW7C0wIE2pO6GJvEF&gir=yes&clen=631740915&dur=1242.141&lmt=1566893519013301&mt=1621995177&fvip=1&keepalive=yes&fexp=24001373%2C24007246&c=WEB&txp=4535432&n=AA_MKVEqh5Y5pv5vxe&sparams=expire%2Cei%2Cip%2Cid%2Caitags%2Csource%2Crequiressl%2Cvprv%2Cmime%2Cns%2Cgir%2Cclen%2Cdur%2Clmt&sig=AOq0QJ8wRQIgV9Z9zWHYXtfgqZ84W1v-92zUKA-d_ZWTiU1AbD_GanACIQDdTapsU7uIaijLUl5QjPdm6lLWBhFK1wzV0ecyKpRPxg%3D%3D&lsparams=mh%2Cmm%2Cmn%2Cms%2Cmv%2Cmvi%2Cpl%2Cinitcwndbps&lsig=AG3C_xAwRAIgeFe7gX06F2fIJOE_Z1J9gq3M9_DG8B5txj9tSg3KvzACID-gRM7EFeLPZpDyGlHu0K5yr2Tu8fFC5oQ1t00b3EQ3':\n",
      "  Metadata:\n",
      "    encoder         : google/video-file\n",
      "  Duration: 00:20:42.14, start: 0.000000, bitrate: 4068 kb/s\n",
      "  Stream #0:0(eng): Video: vp9 (Profile 0), yuv420p(tv, bt709), 1920x1080, SAR 1:1 DAR 16:9, 59.94 fps, 59.94 tbr, 1k tbn (default)\n",
      "Output #0, mp4, to 'out.mp4':\n",
      "  Metadata:\n",
      "    encoder         : Lavf59.2.101\n",
      "  Stream #0:0(eng): Video: vp9 (Profile 0) (vp09 / 0x39307076), yuv420p(tv, bt709), 1920x1080 [SAR 1:1 DAR 16:9], q=2-31, 59.94 fps, 59.94 tbr, 16k tbn (default)\n",
      "Stream mapping:\n",
      "  Stream #0:0 -> #0:0 (copy)\n",
      "Press [q] to stop, [?] for help\n",
      "frame=    1 fps=0.0 q=-1.0 size=       0kB time=-00:00:00.05 bitrate=N/A speed=N/A    \n",
      "frame=  113 fps=0.0 q=-1.0 size=    1024kB time=00:00:01.81 bitrate=4616.8kbits/s speed=3.61x    \n",
      "frame=  306 fps=297 q=-1.0 size=    2816kB time=00:00:05.03 bitrate=4579.9kbits/s speed=4.89x    \n",
      "frame=  447 fps=286 q=-1.0 size=    4096kB time=00:00:07.38 bitrate=4541.1kbits/s speed=4.72x    \n",
      "frame=  603 fps=300 q=-1.0 Lsize=    5553kB time=00:00:09.99 bitrate=4552.2kbits/s speed=4.97x    \n",
      "video:5546kB audio:0kB subtitle:0kB other streams:0kB global headers:0kB muxing overhead: 0.112459%\n"
     ]
    }
   ],
   "source": [
    "!\"C:\\Users\\roble\\Downloads\\ffmpeg-2021-05-23-git-4c0d6c91f6-full_build\\bin\\ffmpeg.exe\" -ss 00:00:15.00 -i \"https://r1---sn-5ualdn76.googlevideo.com/videoplayback?expire=1622017488&ei=cLGtYOShCriozLUP4MiS-A8&ip=75.137.100.26&id=o-ALqIM1l0RiSpx4qYSAhRztH6n0U1qYHGN_fg79ODOt1T&itag=303&aitags=133%2C134%2C135%2C136%2C160%2C242%2C243%2C244%2C247%2C278%2C298%2C299%2C302%2C303%2C394%2C395%2C396%2C397%2C398%2C399&source=youtube&requiressl=yes&mh=83&mm=31%2C26&mn=sn-5ualdn76%2Csn-p5qs7ner&ms=au%2Conr&mv=m&mvi=1&pl=19&initcwndbps=1555000&vprv=1&mime=video%2Fwebm&ns=8cOZFCDPW7C0wIE2pO6GJvEF&gir=yes&clen=631740915&dur=1242.141&lmt=1566893519013301&mt=1621995177&fvip=1&keepalive=yes&fexp=24001373%2C24007246&c=WEB&txp=4535432&n=AA_MKVEqh5Y5pv5vxe&sparams=expire%2Cei%2Cip%2Cid%2Caitags%2Csource%2Crequiressl%2Cvprv%2Cmime%2Cns%2Cgir%2Cclen%2Cdur%2Clmt&sig=AOq0QJ8wRQIgV9Z9zWHYXtfgqZ84W1v-92zUKA-d_ZWTiU1AbD_GanACIQDdTapsU7uIaijLUl5QjPdm6lLWBhFK1wzV0ecyKpRPxg%3D%3D&lsparams=mh%2Cmm%2Cmn%2Cms%2Cmv%2Cmvi%2Cpl%2Cinitcwndbps&lsig=AG3C_xAwRAIgeFe7gX06F2fIJOE_Z1J9gq3M9_DG8B5txj9tSg3KvzACID-gRM7EFeLPZpDyGlHu0K5yr2Tu8fFC5oQ1t00b3EQ3\" -t 00:00:10.00 -c copy out.mp4"
   ]
  },
  {
   "cell_type": "code",
   "execution_count": 1,
   "metadata": {},
   "outputs": [
    {
     "name": "stderr",
     "output_type": "stream",
     "text": [
      "The system cannot find the path specified.\n",
      "'ffmpeg' is not recognized as an internal or external command,\n",
      "operable program or batch file.\n"
     ]
    }
   ],
   "source": [
    "!ffmpeg"
   ]
  },
  {
   "cell_type": "code",
   "execution_count": 7,
   "metadata": {},
   "outputs": [
    {
     "name": "stderr",
     "output_type": "stream",
     "text": [
      "The system cannot find the path specified.\n",
      "ffmpeg version 2021-05-23-git-4c0d6c91f6-full_build-www.gyan.dev Copyright (c) 2000-2021 the FFmpeg developers\n",
      "  built with gcc 10.3.0 (Rev2, Built by MSYS2 project)\n",
      "  configuration: --enable-gpl --enable-version3 --enable-static --disable-w32threads --disable-autodetect --enable-fontconfig --enable-iconv --enable-gnutls --enable-libxml2 --enable-gmp --enable-lzma --enable-libsnappy --enable-zlib --enable-librist --enable-libsrt --enable-libssh --enable-libzmq --enable-avisynth --enable-libbluray --enable-libcaca --enable-sdl2 --enable-libdav1d --enable-libzvbi --enable-librav1e --enable-libsvtav1 --enable-libwebp --enable-libx264 --enable-libx265 --enable-libxvid --enable-libaom --enable-libopenjpeg --enable-libvpx --enable-libass --enable-frei0r --enable-libfreetype --enable-libfribidi --enable-libvidstab --enable-libvmaf --enable-libzimg --enable-amf --enable-cuda-llvm --enable-cuvid --enable-ffnvcodec --enable-nvdec --enable-nvenc --enable-d3d11va --enable-dxva2 --enable-libmfx --enable-libglslang --enable-vulkan --enable-opencl --enable-libcdio --enable-libgme --enable-libmodplug --enable-libopenmpt --enable-libopencore-amrwb --enable-libmp3lame --enable-libshine --enable-libtheora --enable-libtwolame --enable-libvo-amrwbenc --enable-libilbc --enable-libgsm --enable-libopencore-amrnb --enable-libopus --enable-libspeex --enable-libvorbis --enable-ladspa --enable-libbs2b --enable-libflite --enable-libmysofa --enable-librubberband --enable-libsoxr --enable-chromaprint\n",
      "  libavutil      57.  0.100 / 57.  0.100\n",
      "  libavcodec     59.  1.100 / 59.  1.100\n",
      "  libavformat    59.  2.101 / 59.  2.101\n",
      "  libavdevice    59.  0.100 / 59.  0.100\n",
      "  libavfilter     8.  0.101 /  8.  0.101\n",
      "  libswscale      6.  0.100 /  6.  0.100\n",
      "  libswresample   4.  0.100 /  4.  0.100\n",
      "  libpostproc    56.  0.100 / 56.  0.100\n",
      "Hyper fast Audio and Video encoder\n",
      "usage: ffmpeg [options] [[infile options] -i infile]... {[outfile options] outfile}...\n",
      "\n",
      "Use -h to get full help or, even better, run 'man ffmpeg'\n"
     ]
    }
   ],
   "source": [
    "!\"C:\\Users\\roble\\Downloads\\ffmpeg-2021-05-23-git-4c0d6c91f6-full_build\\bin\\ffmpeg.exe\""
   ]
  },
  {
   "cell_type": "code",
   "execution_count": 38,
   "metadata": {},
   "outputs": [],
   "source": [
    "from IPython.display import HTML"
   ]
  },
  {
   "cell_type": "code",
   "execution_count": 39,
   "metadata": {},
   "outputs": [
    {
     "data": {
      "text/html": [
       "\n",
       "<video width=\"320\" height=\"240\" controls>\n",
       "  <source src=\"https://r1---sn-5ualdn76.googlevideo.com/videoplayback?expire=1621824335&ei=776qYPnzLaqej-8PleyQyAQ&ip=75.137.100.26&id=o-ACyHXBjyK6Nfv51Ck_dAZOEdAjF7cA2NHrlYnm0DJciS&itag=303&aitags=133%2C134%2C135%2C136%2C160%2C242%2C243%2C244%2C247%2C278%2C298%2C299%2C302%2C303%2C394%2C395%2C396%2C397%2C398%2C399&source=youtube&requiressl=yes&mh=83&mm=31%2C26&mn=sn-5ualdn76%2Csn-p5qlsndk&ms=au%2Conr&mv=m&mvi=1&pl=19&initcwndbps=1637500&vprv=1&mime=video%2Fwebm&ns=_mJTTn6wc3yJKf2nAlCaOzsF&gir=yes&clen=631740915&dur=1242.141&lmt=1566893519013301&mt=1621802466&fvip=1&keepalive=yes&fexp=24001373%2C24007246&beids=23886203&c=WEB&txp=4535432&n=5PujN6cuTkVRhJR4&sparams=expire%2Cei%2Cip%2Cid%2Caitags%2Csource%2Crequiressl%2Cvprv%2Cmime%2Cns%2Cgir%2Cclen%2Cdur%2Clmt&sig=AOq0QJ8wRQIgTuEQqBEbo7_rp9byMQjIGYpJzsZPnGlUKN1f74OaDcwCIQD5ijuyTgH_96T3J7DIjbGcHqloK97vzf7X3XqbHW9woA%3D%3D&lsparams=mh%2Cmm%2Cmn%2Cms%2Cmv%2Cmvi%2Cpl%2Cinitcwndbps&lsig=AG3C_xAwRQIgdQo1qXNStmqLf-a3ped602YsibjxZaQb7B0lNDTv4qYCIQDq_rboLtdkt47s4GNazIAbtlrDYdnugbegOiORmMAdiw%3D%3D\" type=\"video/mp4\">\n",
       "</video>\n"
      ],
      "text/plain": [
       "<IPython.core.display.HTML object>"
      ]
     },
     "execution_count": 39,
     "metadata": {},
     "output_type": "execute_result"
    }
   ],
   "source": [
    "HTML(\"\"\"\n",
    "<video width=\"320\" height=\"240\" controls>\n",
    "  <source src=\"https://r1---sn-5ualdn76.googlevideo.com/videoplayback?expire=1621824335&ei=776qYPnzLaqej-8PleyQyAQ&ip=75.137.100.26&id=o-ACyHXBjyK6Nfv51Ck_dAZOEdAjF7cA2NHrlYnm0DJciS&itag=303&aitags=133%2C134%2C135%2C136%2C160%2C242%2C243%2C244%2C247%2C278%2C298%2C299%2C302%2C303%2C394%2C395%2C396%2C397%2C398%2C399&source=youtube&requiressl=yes&mh=83&mm=31%2C26&mn=sn-5ualdn76%2Csn-p5qlsndk&ms=au%2Conr&mv=m&mvi=1&pl=19&initcwndbps=1637500&vprv=1&mime=video%2Fwebm&ns=_mJTTn6wc3yJKf2nAlCaOzsF&gir=yes&clen=631740915&dur=1242.141&lmt=1566893519013301&mt=1621802466&fvip=1&keepalive=yes&fexp=24001373%2C24007246&beids=23886203&c=WEB&txp=4535432&n=5PujN6cuTkVRhJR4&sparams=expire%2Cei%2Cip%2Cid%2Caitags%2Csource%2Crequiressl%2Cvprv%2Cmime%2Cns%2Cgir%2Cclen%2Cdur%2Clmt&sig=AOq0QJ8wRQIgTuEQqBEbo7_rp9byMQjIGYpJzsZPnGlUKN1f74OaDcwCIQD5ijuyTgH_96T3J7DIjbGcHqloK97vzf7X3XqbHW9woA%3D%3D&lsparams=mh%2Cmm%2Cmn%2Cms%2Cmv%2Cmvi%2Cpl%2Cinitcwndbps&lsig=AG3C_xAwRQIgdQo1qXNStmqLf-a3ped602YsibjxZaQb7B0lNDTv4qYCIQDq_rboLtdkt47s4GNazIAbtlrDYdnugbegOiORmMAdiw%3D%3D\" type=\"video/mp4\">\n",
    "</video>\n",
    "\"\"\")"
   ]
  },
  {
   "cell_type": "code",
   "execution_count": null,
   "metadata": {},
   "outputs": [],
   "source": []
  }
 ],
 "metadata": {
  "kernelspec": {
   "display_name": "Python 3",
   "language": "python",
   "name": "python3"
  },
  "language_info": {
   "codemirror_mode": {
    "name": "ipython",
    "version": 3
   },
   "file_extension": ".py",
   "mimetype": "text/x-python",
   "name": "python",
   "nbconvert_exporter": "python",
   "pygments_lexer": "ipython3",
   "version": "3.8.3"
  }
 },
 "nbformat": 4,
 "nbformat_minor": 4
}
